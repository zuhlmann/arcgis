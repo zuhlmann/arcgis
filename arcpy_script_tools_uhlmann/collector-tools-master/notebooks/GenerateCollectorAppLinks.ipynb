{
 "cells": [
  {
   "cell_type": "markdown",
   "metadata": {},
   "source": [
    "### Generate Collector App links\n",
    "\n",
    "This notebook demonstrates how you can generate a series of app links to interact with Collector.\n",
    "\n",
    "For more information and examples, see [Collector's documentation](https://doc.arcgis.com/en/collector/ipad/help/deploy-map.htm#ESRI_SECTION1_F7DE2402BA8743E5BFC4A1241072960E).\n"
   ]
  },
  {
   "cell_type": "markdown",
   "metadata": {},
   "source": [
    "#### Connect to your ArcGIS Online or ArcGIS Enterprise organization"
   ]
  },
  {
   "cell_type": "code",
   "execution_count": null,
   "metadata": {
    "scrolled": true
   },
   "outputs": [],
   "source": [
    "import arcgis\n",
    "from arcgis.gis import GIS\n",
    "\n",
    "gis = GIS(\"https://www.arcgis.com\", \"doug_nitro\")\n",
    "print(\"Connected to {}\".format(gis.properties.portalHostname))"
   ]
  },
  {
   "cell_type": "code",
   "execution_count": null,
   "metadata": {},
   "outputs": [],
   "source": [
    "# Get the web map item you want to use\n",
    "wmitem = gis.content.get('c1937c8c3e794c6fac1ed310a0e916cd')"
   ]
  },
  {
   "cell_type": "markdown",
   "metadata": {},
   "source": [
    "#### Generate an app link to open a specific web map"
   ]
  },
  {
   "cell_type": "code",
   "execution_count": null,
   "metadata": {},
   "outputs": [],
   "source": [
    "from arcgis import apps\n",
    " \n",
    "outUrl = apps.build_collector_url(webmap=wmitem,center=None,\n",
    "                                  feature_layer=None,fields=None,\n",
    "                                  search=None,portal=None,action=\"open\")\n",
    "\n",
    "print (outUrl)"
   ]
  },
  {
   "cell_type": "markdown",
   "metadata": {},
   "source": [
    "#### Generate an app link to open a map at a specific location"
   ]
  },
  {
   "cell_type": "code",
   "execution_count": null,
   "metadata": {},
   "outputs": [],
   "source": [
    "outUrl = apps.build_collector_url(webmap=wmitem,center=\"34,-117\",\n",
    "                                  feature_layer=None,fields=None,\n",
    "                                  search=None,portal=None,action=\"center\")\n",
    "\n",
    "print (outUrl)"
   ]
  },
  {
   "cell_type": "markdown",
   "metadata": {},
   "source": [
    "#### Generate an app link to open a map and execute a search"
   ]
  },
  {
   "cell_type": "code",
   "execution_count": null,
   "metadata": {},
   "outputs": [],
   "source": [
    "outUrl = apps.build_collector_url(webmap=wmitem,center=None,\n",
    "                                  feature_layer=None,fields=None,\n",
    "                                  search=\"Pyramid Lake\",portal=None,\n",
    "                                  action=\"search\")\n",
    "\n",
    "print (outUrl)"
   ]
  },
  {
   "cell_type": "markdown",
   "metadata": {},
   "source": [
    "#### Generate an app link including the portal URL\n",
    "\n",
    "Email or text to your field workforce and simplify login. You can use the `GIS` you're currently connected to rather than the URL directly."
   ]
  },
  {
   "cell_type": "code",
   "execution_count": null,
   "metadata": {},
   "outputs": [],
   "source": [
    "# Simplify if connecting to ArcGIS Enterprise\n",
    "outUrl = apps.build_collector_url(webmap=wmitem,center=None,\n",
    "                                  feature_layer=None,fields=None,\n",
    "                                  search=None,\n",
    "                                  portal=\"https://drava.esri.com/portal\",\n",
    "                                  action=\"open\")\n",
    "\n",
    "print (outUrl)"
   ]
  },
  {
   "cell_type": "code",
   "execution_count": null,
   "metadata": {},
   "outputs": [],
   "source": [
    "# Simplify if connecting to ArcGIS Online using Enterprise logins\n",
    "outUrl = apps.build_collector_url(webmap=wmitem,center=None,\n",
    "                                  feature_layer=None,fields=None,\n",
    "                                  search=None,\n",
    "                                  portal=gis,\n",
    "                                  action=\"open\")\n",
    "print (outUrl)"
   ]
  },
  {
   "cell_type": "markdown",
   "metadata": {},
   "source": [
    "#### Generate a QR code for the portal URL app link\n",
    "\n",
    "Hang this up for field users to scan with their device and simplify login"
   ]
  },
  {
   "cell_type": "code",
   "execution_count": null,
   "metadata": {},
   "outputs": [],
   "source": [
    "import qrcode\n",
    "\n",
    "qrcode.make(outUrl)"
   ]
  }
 ],
 "metadata": {
  "kernelspec": {
   "display_name": "Python 3",
   "language": "python",
   "name": "python3"
  },
  "language_info": {
   "codemirror_mode": {
    "name": "ipython",
    "version": 3
   },
   "file_extension": ".py",
   "mimetype": "text/x-python",
   "name": "python",
   "nbconvert_exporter": "python",
   "pygments_lexer": "ipython3",
   "version": "3.7.3"
  }
 },
 "nbformat": 4,
 "nbformat_minor": 2
}
