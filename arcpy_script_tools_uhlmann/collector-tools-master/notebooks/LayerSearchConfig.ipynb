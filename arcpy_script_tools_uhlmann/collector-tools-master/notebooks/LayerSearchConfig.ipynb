{
 "cells": [
  {
   "cell_type": "markdown",
   "metadata": {},
   "source": [
    "### Search for assets and observations in Collector for ArcGIS\n",
    "\n",
    "This notebook demonstrates how you can configure search in the layer of a web maps. The search is then honored in apps, including Collector and Explorer.\n"
   ]
  },
  {
   "cell_type": "markdown",
   "metadata": {},
   "source": [
    "#### Connect to your ArcGIS Online or ArcGIS Enterprise organization"
   ]
  },
  {
   "cell_type": "code",
   "execution_count": null,
   "metadata": {
    "scrolled": true
   },
   "outputs": [],
   "source": [
    "import arcgis\n",
    "from arcgis.gis import GIS\n",
    "from arcgis.mapping import WebMap\n",
    "import json\n",
    "\n",
    "print('Enter your ArcGIS account user name: ')\n",
    "username = input()\n",
    "gis = GIS('https://www.arcgis.com', username) # the item IDs used for maps here are available to user `kdonia_nitro`\n",
    "print('Connected to {}'.format(gis.properties.portalHostname))"
   ]
  },
  {
   "cell_type": "markdown",
   "metadata": {},
   "source": [
    "#### Get the web map\n",
    "\n",
    "Search by ID for the web map where you want to configure layer search. "
   ]
  },
  {
   "cell_type": "code",
   "execution_count": null,
   "metadata": {},
   "outputs": [],
   "source": [
    "# An item with a search configured\n",
    "webmap_item_with_search = gis.content.get('2b6140162d1c479f9f60f80ea8d5ca1f') \n",
    "\n",
    "# An item without search configured\n",
    "webmap_item_no_search = gis.content.get('e5bd1251a090491793f7b1b1b443ec30') # previously used 0005cebc80cf44b7b91e20a46611775a"
   ]
  },
  {
   "cell_type": "markdown",
   "metadata": {},
   "source": [
    "#### Search a feature layer\n",
    "\n",
    "If the map already has feature search configured, add another search to it. If not, insert the first feature search."
   ]
  },
  {
   "cell_type": "code",
   "execution_count": null,
   "metadata": {},
   "outputs": [],
   "source": [
    "def add_layer_search(webmap_item, layer_url, field_name, exact_match, esri_field_type):\n",
    "    json_data = webmap_item.get_data()\n",
    "    if 'applicationProperties' not in json_data:\n",
    "        print(\"Bad JSON -- OOPS!\")\n",
    "        return\n",
    "    \n",
    "    app_properties_viewing = json_data['applicationProperties']['viewing']\n",
    "\n",
    "    # Get the ID of the layer to search, based on the URL you know it has\n",
    "    webmap = WebMap(webmap_item)\n",
    "    layers = webmap.layers\n",
    "    layer_id = None\n",
    "    for layer in layers:\n",
    "        if layer.url == layer_url:\n",
    "            layer_id = layer.id\n",
    "        \n",
    "    if layer_id is None:\n",
    "        print('Layer URL not found: ' + layer_url, end='\\n\\n')\n",
    "        return\n",
    "         \n",
    "    # if there isn't feature search defined, add the property with the defaults so that the next section can add the layer info\n",
    "    if 'search' not in app_properties_viewing:\n",
    "        search_property = {'enabled': True, 'disablePlaceFinder': False, 'hintText': 'Place or Address', 'layers': [{'id': layer_id, 'field': {'name': field_name, 'exactMatch': exact_match, 'type': esri_field_type}}]}\n",
    "        app_properties_viewing['search'] = search_property\n",
    "    \n",
    "        print(\"Updated search for '\" + webmap_item.title + \"'\")\n",
    "        webmap_item.update(data = json.dumps(json_data))\n",
    "            \n",
    "    # else if there is already a feature search defined, add a layer to that search\n",
    "    elif 'search' in app_properties_viewing:\n",
    " \n",
    "        search_layers_property = app_properties_viewing['search']['layers']\n",
    "        new_layer = {'id': layer_id, 'field': {'name': field_name, 'exactMatch': exact_match, 'type': esri_field_type}}\n",
    "        search_layers_property.append(new_layer)\n",
    "        webmap_item.update(data = json.dumps(json_data))\n",
    "        print(\"Added another search in '\" + webmap_item.title + \"`\", end='\\n\\n')\n",
    "            "
   ]
  },
  {
   "cell_type": "code",
   "execution_count": null,
   "metadata": {},
   "outputs": [],
   "source": [
    "webmap_item = webmap_item_no_search\n",
    "layer_url = 'https://services.arcgis.com/N4jtru9dctSQR53c/arcgis/rest/services/Hydrant_maintenance/FeatureServer/0'\n",
    "#layer_url = 'https://services.arcgis.com/N4jtru9dctSQR53c/arcgis/rest/services/Assets/FeatureServer/0'\n",
    "\n",
    "add_layer_search(webmap_item, layer_url, 'Facility Identifier', True, 'esriFieldTypeInteger') #ID\n",
    "add_layer_search(webmap_item, layer_url, 'Creator', False, 'esriFieldTypeString') #Details"
   ]
  },
  {
   "cell_type": "markdown",
   "metadata": {},
   "source": [
    "#### Provide hint text\n",
    "\n",
    "Check if it has layer search configured, and if so, provide hint text."
   ]
  },
  {
   "cell_type": "code",
   "execution_count": null,
   "metadata": {},
   "outputs": [],
   "source": [
    "webmap_item = webmap_item_with_search\n",
    "json_data = webmap_item.get_data()\n",
    "app_properties_viewing = json_data['applicationProperties']['viewing']\n",
    "\n",
    "if ('search' in app_properties_viewing):\n",
    " \n",
    "    layer_search_property = app_properties_viewing['search']\n",
    "    hint_text = {'hintText': 'My search-specific hint text'}\n",
    "    layer_search_property.update(hint_text)\n",
    "    webmap_item.update(data = json.dumps(json_data))\n",
    "\n",
    "    print(\"Updated hint text for '\" + webmap_item.title + \"'\")   "
   ]
  },
  {
   "cell_type": "markdown",
   "metadata": {},
   "source": [
    "#### Disable place search\n",
    "\n",
    "If you won't want mobile workers searching for generic places and addresses, disable place search."
   ]
  },
  {
   "cell_type": "code",
   "execution_count": null,
   "metadata": {},
   "outputs": [],
   "source": [
    "webmap_item = webmap_item_with_search\n",
    "json_data = webmap_item.get_data()\n",
    "app_properties_viewing = json_data['applicationProperties']['viewing']\n",
    "\n",
    "if ('search' in app_properties_viewing):\n",
    " \n",
    "    layer_search_property = app_properties_viewing['search']\n",
    "    disable_place_finder = {'disablePlaceFinder': True}\n",
    "    layer_search_property.update(disable_place_finder)\n",
    "    webmap_item.update(data = json.dumps(json_data))\n",
    "    \n",
    "    print(\"Disabled place finder for '\" + webmap_item.title + \"'\")"
   ]
  }
 ],
 "metadata": {
  "kernelspec": {
   "display_name": "Python 3",
   "language": "python",
   "name": "python3"
  },
  "language_info": {
   "codemirror_mode": {
    "name": "ipython",
    "version": 3
   },
   "file_extension": ".py",
   "mimetype": "text/x-python",
   "name": "python",
   "nbconvert_exporter": "python",
   "pygments_lexer": "ipython3",
   "version": "3.6.8"
  }
 },
 "nbformat": 4,
 "nbformat_minor": 2
}
