{
 "cells": [
  {
   "cell_type": "markdown",
   "metadata": {},
   "source": [
    "### Exclude web maps from Collector for ArcGIS\n",
    "\n",
    "This notebook demonstrates how you can exclude multiple web maps from Collector.\n",
    "\n",
    "- Using a tag\n",
    "- Using deprecated status\n"
   ]
  },
  {
   "cell_type": "code",
   "execution_count": null,
   "metadata": {},
   "outputs": [],
   "source": [
    "def UpdateWebMapForCollector(webmapItem,disable=True):\n",
    "    \n",
    "    keywords = webmapItem['typeKeywords']\n",
    "    \n",
    "    if (('CollectorDisabled' not in keywords and 'Collector' in keywords) and disable == True):\n",
    "        keywords.remove('Collector')\n",
    "        keywords.append('CollectorDisabled')\n",
    "    elif (('CollectorDisabled' in keywords and 'Collector' not in keywords) and disable == False):\n",
    "        keywords.remove('CollectorDisabled')\n",
    "        keywords.append('Collector')\n",
    "    else:\n",
    "        # don't update outside of conditions above\n",
    "        return (False)\n",
    "    \n",
    "    keystring = ','.join(str(s) for s in keywords)\n",
    "    \n",
    "    return (webmapItem.update({'typeKeywords':keystring}))\n"
   ]
  },
  {
   "cell_type": "markdown",
   "metadata": {},
   "source": [
    "#### Connect to your ArcGIS Online or ArcGIS Enterprise organization"
   ]
  },
  {
   "cell_type": "code",
   "execution_count": null,
   "metadata": {
    "scrolled": true
   },
   "outputs": [],
   "source": [
    "import arcgis\n",
    "from arcgis.gis import GIS\n",
    "\n",
    "gis = GIS(\"https://www.arcgis.com\", \"doug_nitro\")\n",
    "print(\"Connected to {}\".format(gis.properties.portalHostname))"
   ]
  },
  {
   "cell_type": "markdown",
   "metadata": {},
   "source": [
    "#### Exclude all maps with a specific tag\n",
    "\n",
    "Search for all web maps matching a given tag and update the Use In Collector setting if enabled."
   ]
  },
  {
   "cell_type": "code",
   "execution_count": null,
   "metadata": {},
   "outputs": [],
   "source": [
    "wmitems = gis.content.search(\"tags:Office Only && owner:doug_nitro\",item_type='Web Map')\n",
    "wmitems"
   ]
  },
  {
   "cell_type": "code",
   "execution_count": null,
   "metadata": {},
   "outputs": [],
   "source": [
    "for wmitem in wmitems:\n",
    "    if UpdateWebMapForCollector(wmitem,True):\n",
    "        print ('Map updated - ' + wmitem.title)"
   ]
  },
  {
   "cell_type": "markdown",
   "metadata": {},
   "source": [
    "#### Exclude deprecated web maps in a group\n",
    "\n",
    "For each deprecated web map in the group, update the Use In Collector setting if enabled."
   ]
  },
  {
   "cell_type": "code",
   "execution_count": null,
   "metadata": {},
   "outputs": [],
   "source": [
    "target_group = gis.groups.get(\"77cd2beaf31b4569958aeb876222d83c\")\n",
    "target_group"
   ]
  },
  {
   "cell_type": "code",
   "execution_count": null,
   "metadata": {},
   "outputs": [],
   "source": [
    "for groupItem in target_group.content():\n",
    "    if groupItem.type == 'Web Map' and groupItem.content_status=='deprecated':\n",
    "        if UpdateWebMapForCollector(groupItem,True):\n",
    "            print ('Map updated - ' + groupItem.title)"
   ]
  }
 ],
 "metadata": {
  "kernelspec": {
   "display_name": "Python 3",
   "language": "python",
   "name": "python3"
  },
  "language_info": {
   "codemirror_mode": {
    "name": "ipython",
    "version": 3
   },
   "file_extension": ".py",
   "mimetype": "text/x-python",
   "name": "python",
   "nbconvert_exporter": "python",
   "pygments_lexer": "ipython3",
   "version": "3.7.3"
  }
 },
 "nbformat": 4,
 "nbformat_minor": 2
}
